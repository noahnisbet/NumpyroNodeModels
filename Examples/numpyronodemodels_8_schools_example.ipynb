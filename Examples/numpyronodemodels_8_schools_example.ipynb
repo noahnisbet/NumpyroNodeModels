{
  "nbformat": 4,
  "nbformat_minor": 0,
  "metadata": {
    "colab": {
      "provenance": []
    },
    "kernelspec": {
      "name": "python3",
      "display_name": "Python 3"
    },
    "language_info": {
      "name": "python"
    }
  },
  "cells": [
    {
      "cell_type": "markdown",
      "source": [
        "# **8 Schools Example**\n",
        "\n",
        "# Walk-through of this example is in the README"
      ],
      "metadata": {
        "id": "sMW0hY9Ft5us"
      }
    },
    {
      "cell_type": "markdown",
      "source": [
        "# **Original Numpyro Example**"
      ],
      "metadata": {
        "id": "w50poSW2uDig"
      }
    },
    {
      "cell_type": "code",
      "source": [
        "!pip install numpyro"
      ],
      "metadata": {
        "colab": {
          "base_uri": "https://localhost:8080/"
        },
        "id": "44HeKI2WuNat",
        "outputId": "149dfe7d-4439-48ad-f5e6-aa191d5d9196"
      },
      "execution_count": 11,
      "outputs": [
        {
          "output_type": "stream",
          "name": "stdout",
          "text": [
            "Looking in indexes: https://pypi.org/simple, https://us-python.pkg.dev/colab-wheels/public/simple/\n",
            "Requirement already satisfied: numpyro in /usr/local/lib/python3.7/dist-packages (0.10.1)\n",
            "Requirement already satisfied: tqdm in /usr/local/lib/python3.7/dist-packages (from numpyro) (4.64.1)\n",
            "Requirement already satisfied: jax>=0.2.13 in /usr/local/lib/python3.7/dist-packages (from numpyro) (0.3.23)\n",
            "Requirement already satisfied: multipledispatch in /usr/local/lib/python3.7/dist-packages (from numpyro) (0.6.0)\n",
            "Requirement already satisfied: numpy in /usr/local/lib/python3.7/dist-packages (from numpyro) (1.21.6)\n",
            "Requirement already satisfied: jaxlib>=0.1.65 in /usr/local/lib/python3.7/dist-packages (from numpyro) (0.3.22+cuda11.cudnn805)\n",
            "Requirement already satisfied: etils[epath] in /usr/local/lib/python3.7/dist-packages (from jax>=0.2.13->numpyro) (0.8.0)\n",
            "Requirement already satisfied: opt-einsum in /usr/local/lib/python3.7/dist-packages (from jax>=0.2.13->numpyro) (3.3.0)\n",
            "Requirement already satisfied: typing-extensions in /usr/local/lib/python3.7/dist-packages (from jax>=0.2.13->numpyro) (4.1.1)\n",
            "Requirement already satisfied: scipy>=1.5 in /usr/local/lib/python3.7/dist-packages (from jax>=0.2.13->numpyro) (1.7.3)\n",
            "Requirement already satisfied: absl-py in /usr/local/lib/python3.7/dist-packages (from jax>=0.2.13->numpyro) (1.3.0)\n",
            "Requirement already satisfied: zipp in /usr/local/lib/python3.7/dist-packages (from etils[epath]->jax>=0.2.13->numpyro) (3.9.0)\n",
            "Requirement already satisfied: importlib_resources in /usr/local/lib/python3.7/dist-packages (from etils[epath]->jax>=0.2.13->numpyro) (5.10.0)\n",
            "Requirement already satisfied: six in /usr/local/lib/python3.7/dist-packages (from multipledispatch->numpyro) (1.15.0)\n"
          ]
        }
      ]
    },
    {
      "cell_type": "code",
      "execution_count": 12,
      "metadata": {
        "colab": {
          "base_uri": "https://localhost:8080/"
        },
        "id": "Wflhziq3tdRR",
        "outputId": "ca5dc813-17fd-4d8c-afa5-cffa8bfb217b"
      },
      "outputs": [
        {
          "output_type": "stream",
          "name": "stderr",
          "text": [
            "sample: 100%|██████████| 1500/1500 [00:07<00:00, 190.11it/s, 31 steps of size 4.85e-02. acc. prob=0.99]\n"
          ]
        },
        {
          "output_type": "stream",
          "name": "stdout",
          "text": [
            "\n",
            "                mean       std    median      5.0%     95.0%     n_eff     r_hat\n",
            "        mu      4.30      3.44      4.23     -1.68      8.96    158.83      1.01\n",
            "       tau      4.05      3.45      2.97      0.29      8.29     70.21      1.02\n",
            "  theta[0]      6.41      5.66      5.74     -2.99     14.52    213.16      1.01\n",
            "  theta[1]      5.16      4.92      4.98     -2.10     13.42    250.40      1.01\n",
            "  theta[2]      3.70      5.47      3.73     -5.71     11.76    324.69      1.00\n",
            "  theta[3]      4.83      5.32      4.52     -2.80     13.70    331.97      1.00\n",
            "  theta[4]      3.49      4.95      3.68     -4.69     11.44    211.57      1.00\n",
            "  theta[5]      3.96      5.10      4.24     -3.66     12.65    298.62      1.01\n",
            "  theta[6]      6.75      5.52      6.05     -1.46     15.60    155.36      1.01\n",
            "  theta[7]      5.07      5.31      4.80     -3.16     13.83    232.52      1.02\n",
            "\n",
            "Number of divergences: 1\n"
          ]
        }
      ],
      "source": [
        "import numpyro\n",
        "import numpyro.distributions as dist\n",
        "import numpy as np\n",
        "from jax import random\n",
        "from numpyro.infer import MCMC, NUTS\n",
        "\n",
        "# Defining data\n",
        "J = 8\n",
        "y = np.array([28.0, 8.0, -3.0, 7.0, -1.0, 1.0, 18.0, 12.0])\n",
        "sigma = np.array([15.0, 10.0, 16.0, 11.0, 9.0, 11.0, 10.0, 18.0])\n",
        "\n",
        "# Eight Schools original numpyro model definition\n",
        "def eight_schools(J, sigma, y=None):\n",
        "  mu = numpyro.sample('mu', dist.Normal(0, 5))\n",
        "  tau = numpyro.sample('tau', dist.HalfCauchy(5))\n",
        "  with numpyro.plate('J', J):\n",
        "    theta = numpyro.sample('theta', dist.Normal(mu, tau))\n",
        "    numpyro.sample('obs', dist.Normal(theta, sigma), obs=y)\n",
        "\n",
        "#running MCMC\n",
        "nuts_kernel = NUTS(eight_schools)\n",
        "mcmc = MCMC(nuts_kernel, num_warmup=500, num_samples=1000)\n",
        "rng_key = random.PRNGKey(0)\n",
        "mcmc.run(rng_key, J, sigma, y=y, extra_fields=('potential_energy',))\n",
        "mcmc.print_summary()"
      ]
    },
    {
      "cell_type": "markdown",
      "source": [
        "# **Installing Numpyro Node Model dependancies & repository**"
      ],
      "metadata": {
        "id": "aq2Iy70mvxq-"
      }
    },
    {
      "cell_type": "code",
      "source": [
        "!git clone https://github.com/noahnisbet/numpyronodemodels.git\n",
        "!pip install numpyro\n",
        "!pip install funsor"
      ],
      "metadata": {
        "colab": {
          "base_uri": "https://localhost:8080/"
        },
        "id": "SWqSamM9t0-n",
        "outputId": "7caf58e5-87ab-4802-8748-303dc6241fae"
      },
      "execution_count": 13,
      "outputs": [
        {
          "output_type": "stream",
          "name": "stdout",
          "text": [
            "fatal: destination path 'numpyronodemodels' already exists and is not an empty directory.\n",
            "Looking in indexes: https://pypi.org/simple, https://us-python.pkg.dev/colab-wheels/public/simple/\n",
            "Requirement already satisfied: numpyro in /usr/local/lib/python3.7/dist-packages (0.10.1)\n",
            "Requirement already satisfied: jax>=0.2.13 in /usr/local/lib/python3.7/dist-packages (from numpyro) (0.3.23)\n",
            "Requirement already satisfied: jaxlib>=0.1.65 in /usr/local/lib/python3.7/dist-packages (from numpyro) (0.3.22+cuda11.cudnn805)\n",
            "Requirement already satisfied: numpy in /usr/local/lib/python3.7/dist-packages (from numpyro) (1.21.6)\n",
            "Requirement already satisfied: multipledispatch in /usr/local/lib/python3.7/dist-packages (from numpyro) (0.6.0)\n",
            "Requirement already satisfied: tqdm in /usr/local/lib/python3.7/dist-packages (from numpyro) (4.64.1)\n",
            "Requirement already satisfied: typing-extensions in /usr/local/lib/python3.7/dist-packages (from jax>=0.2.13->numpyro) (4.1.1)\n",
            "Requirement already satisfied: etils[epath] in /usr/local/lib/python3.7/dist-packages (from jax>=0.2.13->numpyro) (0.8.0)\n",
            "Requirement already satisfied: absl-py in /usr/local/lib/python3.7/dist-packages (from jax>=0.2.13->numpyro) (1.3.0)\n",
            "Requirement already satisfied: opt-einsum in /usr/local/lib/python3.7/dist-packages (from jax>=0.2.13->numpyro) (3.3.0)\n",
            "Requirement already satisfied: scipy>=1.5 in /usr/local/lib/python3.7/dist-packages (from jax>=0.2.13->numpyro) (1.7.3)\n",
            "Requirement already satisfied: importlib_resources in /usr/local/lib/python3.7/dist-packages (from etils[epath]->jax>=0.2.13->numpyro) (5.10.0)\n",
            "Requirement already satisfied: zipp in /usr/local/lib/python3.7/dist-packages (from etils[epath]->jax>=0.2.13->numpyro) (3.9.0)\n",
            "Requirement already satisfied: six in /usr/local/lib/python3.7/dist-packages (from multipledispatch->numpyro) (1.15.0)\n",
            "Looking in indexes: https://pypi.org/simple, https://us-python.pkg.dev/colab-wheels/public/simple/\n",
            "Requirement already satisfied: funsor in /usr/local/lib/python3.7/dist-packages (0.4.3)\n",
            "Requirement already satisfied: opt-einsum>=2.3.2 in /usr/local/lib/python3.7/dist-packages (from funsor) (3.3.0)\n",
            "Requirement already satisfied: makefun in /usr/local/lib/python3.7/dist-packages (from funsor) (1.15.0)\n",
            "Requirement already satisfied: typing-extensions in /usr/local/lib/python3.7/dist-packages (from funsor) (4.1.1)\n",
            "Requirement already satisfied: multipledispatch in /usr/local/lib/python3.7/dist-packages (from funsor) (0.6.0)\n",
            "Requirement already satisfied: numpy>=1.7 in /usr/local/lib/python3.7/dist-packages (from funsor) (1.21.6)\n",
            "Requirement already satisfied: six in /usr/local/lib/python3.7/dist-packages (from multipledispatch->funsor) (1.15.0)\n"
          ]
        }
      ]
    },
    {
      "cell_type": "markdown",
      "source": [
        "Before running this cell put setup.py and numpyronodemodel.py in current directory. I am using google colab so simply click on the folder icon. Find the numpyronodemodels directory and drag setup.py and numpyronodemodels.py into base directory."
      ],
      "metadata": {
        "id": "xETZAVTWv4zr"
      }
    },
    {
      "cell_type": "code",
      "source": [
        "!python setup.py install"
      ],
      "metadata": {
        "colab": {
          "base_uri": "https://localhost:8080/"
        },
        "id": "DQa5I-rMt36Z",
        "outputId": "782aaf7c-1a87-402e-baf4-f12b21da7d08"
      },
      "execution_count": 14,
      "outputs": [
        {
          "output_type": "stream",
          "name": "stdout",
          "text": [
            "/usr/local/lib/python3.7/dist-packages/setuptools/dist.py:484: UserWarning: Normalizing '0.1dev' to '0.1.dev0'\n",
            "  warnings.warn(tmpl.format(**locals()))\n",
            "running install\n",
            "running bdist_egg\n",
            "running egg_info\n",
            "writing numpyronodemodels.egg-info/PKG-INFO\n",
            "writing dependency_links to numpyronodemodels.egg-info/dependency_links.txt\n",
            "writing top-level names to numpyronodemodels.egg-info/top_level.txt\n",
            "reading manifest file 'numpyronodemodels.egg-info/SOURCES.txt'\n",
            "writing manifest file 'numpyronodemodels.egg-info/SOURCES.txt'\n",
            "installing library code to build/bdist.linux-x86_64/egg\n",
            "running install_lib\n",
            "running build_py\n",
            "creating build/bdist.linux-x86_64/egg\n",
            "copying build/lib/numpyronodemodels.py -> build/bdist.linux-x86_64/egg\n",
            "byte-compiling build/bdist.linux-x86_64/egg/numpyronodemodels.py to numpyronodemodels.cpython-37.pyc\n",
            "creating build/bdist.linux-x86_64/egg/EGG-INFO\n",
            "copying numpyronodemodels.egg-info/PKG-INFO -> build/bdist.linux-x86_64/egg/EGG-INFO\n",
            "copying numpyronodemodels.egg-info/SOURCES.txt -> build/bdist.linux-x86_64/egg/EGG-INFO\n",
            "copying numpyronodemodels.egg-info/dependency_links.txt -> build/bdist.linux-x86_64/egg/EGG-INFO\n",
            "copying numpyronodemodels.egg-info/top_level.txt -> build/bdist.linux-x86_64/egg/EGG-INFO\n",
            "zip_safe flag not set; analyzing archive contents...\n",
            "__pycache__.numpyronodemodels.cpython-37: module MAY be using inspect.trace\n",
            "creating 'dist/numpyronodemodels-0.1.dev0-py3.7.egg' and adding 'build/bdist.linux-x86_64/egg' to it\n",
            "removing 'build/bdist.linux-x86_64/egg' (and everything under it)\n",
            "Processing numpyronodemodels-0.1.dev0-py3.7.egg\n",
            "removing '/usr/local/lib/python3.7/dist-packages/numpyronodemodels-0.1.dev0-py3.7.egg' (and everything under it)\n",
            "creating /usr/local/lib/python3.7/dist-packages/numpyronodemodels-0.1.dev0-py3.7.egg\n",
            "Extracting numpyronodemodels-0.1.dev0-py3.7.egg to /usr/local/lib/python3.7/dist-packages\n",
            "numpyronodemodels 0.1.dev0 is already the active version in easy-install.pth\n",
            "\n",
            "Installed /usr/local/lib/python3.7/dist-packages/numpyronodemodels-0.1.dev0-py3.7.egg\n",
            "Processing dependencies for numpyronodemodels==0.1.dev0\n",
            "Finished processing dependencies for numpyronodemodels==0.1.dev0\n"
          ]
        }
      ]
    },
    {
      "cell_type": "markdown",
      "source": [
        "# **Numpyro Node Models Exmaple**"
      ],
      "metadata": {
        "id": "2gblVv0qvWyD"
      }
    },
    {
      "cell_type": "code",
      "source": [
        "from numpyronodemodels import NodeModel, NodeToSklearn\n",
        "\n",
        "# Defining Data\n",
        "J = 8\n",
        "y = np.array([28.0, 8.0, -3.0, 7.0, -1.0, 1.0, 18.0, 12.0])\n",
        "sigma = np.array([15.0, 10.0, 16.0, 11.0, 9.0, 11.0, 10.0, 18.0])\n",
        "\n",
        "# creating eight_schools NodeModel object and passing sigma in constructor because it is constant.\n",
        "eight_schools = NodeModel(model_args = {'sigma':sigma})\n",
        "\n",
        "# Defining the plate used with theta and obs\n",
        "J_plate = numpyro.plate('J',J)\n",
        "\n",
        "# Creating the nodes mu and tau with their respective prior distributions\n",
        "eight_schools.add_node(name = 'mu',\n",
        "                       prior_distribution = dist.Normal(0,5))\n",
        "eight_schools.add_node(name = 'tau',\n",
        "                       prior_distribution = dist.HalfCauchy(5))\n",
        "\n",
        "# Defining the theta node function\n",
        "def eight_school_theta_node_function(mu, tau, sigma):\n",
        " return dist.Normal(mu, tau)\n",
        "\n",
        "# creating the theta node using the theta node function and the J plate\n",
        "eight_schools.add_node(name = 'theta',\n",
        "                       node_function=eight_school_theta_node_function,\n",
        "                       plate = (J_plate,))\n",
        "\n",
        "# Defining the obs node function\n",
        "def eight_school_obs_node_function(theta, sigma):\n",
        " return dist.Normal(theta, sigma)\n",
        "\n",
        "# creating the theta node using the obs node function and the J plate\n",
        "eight_schools.add_node(name = 'obs',\n",
        "                       node_function=eight_school_obs_node_function,\n",
        "                       plate = (J_plate,))"
      ],
      "metadata": {
        "id": "zXaxsU5QuW1T"
      },
      "execution_count": 15,
      "outputs": []
    },
    {
      "cell_type": "code",
      "source": [
        "# creating numpyro model\n",
        "numpyro_traditional_model = eight_schools.create_model()\n",
        "\n",
        "# showing the error with render model.\n",
        "# plate is not showing BUT IT IS THERE\n",
        "numpyro.render_model(numpyro_traditional_model)"
      ],
      "metadata": {
        "colab": {
          "base_uri": "https://localhost:8080/",
          "height": 272
        },
        "id": "p9ONh213u7wB",
        "outputId": "28486e87-97a7-4434-beb3-3d9409f3eb32"
      },
      "execution_count": 16,
      "outputs": [
        {
          "output_type": "execute_result",
          "data": {
            "text/plain": [
              "<graphviz.dot.Digraph at 0x7f3b1fd90bd0>"
            ],
            "image/svg+xml": "<?xml version=\"1.0\" encoding=\"UTF-8\" standalone=\"no\"?>\n<!DOCTYPE svg PUBLIC \"-//W3C//DTD SVG 1.1//EN\"\n \"http://www.w3.org/Graphics/SVG/1.1/DTD/svg11.dtd\">\n<!-- Generated by graphviz version 2.40.1 (20161225.0304)\n -->\n<!-- Title: %3 Pages: 1 -->\n<svg width=\"134pt\" height=\"188pt\"\n viewBox=\"0.00 0.00 134.00 188.00\" xmlns=\"http://www.w3.org/2000/svg\" xmlns:xlink=\"http://www.w3.org/1999/xlink\">\n<g id=\"graph0\" class=\"graph\" transform=\"scale(1 1) rotate(0) translate(4 184)\">\n<title>%3</title>\n<polygon fill=\"#ffffff\" stroke=\"transparent\" points=\"-4,4 -4,-184 130,-184 130,4 -4,4\"/>\n<!-- mu -->\n<g id=\"node1\" class=\"node\">\n<title>mu</title>\n<ellipse fill=\"#ffffff\" stroke=\"#000000\" cx=\"27\" cy=\"-162\" rx=\"27\" ry=\"18\"/>\n<text text-anchor=\"middle\" x=\"27\" y=\"-158.3\" font-family=\"Times,serif\" font-size=\"14.00\" fill=\"#000000\">mu</text>\n</g>\n<!-- theta -->\n<g id=\"node3\" class=\"node\">\n<title>theta</title>\n<ellipse fill=\"#ffffff\" stroke=\"#000000\" cx=\"63\" cy=\"-90\" rx=\"28.6953\" ry=\"18\"/>\n<text text-anchor=\"middle\" x=\"63\" y=\"-86.3\" font-family=\"Times,serif\" font-size=\"14.00\" fill=\"#000000\">theta</text>\n</g>\n<!-- mu&#45;&gt;theta -->\n<g id=\"edge1\" class=\"edge\">\n<title>mu&#45;&gt;theta</title>\n<path fill=\"none\" stroke=\"#000000\" d=\"M35.7146,-144.5708C39.9597,-136.0807 45.1536,-125.6929 49.8663,-116.2674\"/>\n<polygon fill=\"#000000\" stroke=\"#000000\" points=\"53.024,-117.7782 54.3657,-107.2687 46.763,-114.6477 53.024,-117.7782\"/>\n</g>\n<!-- tau -->\n<g id=\"node2\" class=\"node\">\n<title>tau</title>\n<ellipse fill=\"#ffffff\" stroke=\"#000000\" cx=\"99\" cy=\"-162\" rx=\"27\" ry=\"18\"/>\n<text text-anchor=\"middle\" x=\"99\" y=\"-158.3\" font-family=\"Times,serif\" font-size=\"14.00\" fill=\"#000000\">tau</text>\n</g>\n<!-- tau&#45;&gt;theta -->\n<g id=\"edge2\" class=\"edge\">\n<title>tau&#45;&gt;theta</title>\n<path fill=\"none\" stroke=\"#000000\" d=\"M90.2854,-144.5708C86.0403,-136.0807 80.8464,-125.6929 76.1337,-116.2674\"/>\n<polygon fill=\"#000000\" stroke=\"#000000\" points=\"79.237,-114.6477 71.6343,-107.2687 72.976,-117.7782 79.237,-114.6477\"/>\n</g>\n<!-- obs -->\n<g id=\"node4\" class=\"node\">\n<title>obs</title>\n<ellipse fill=\"#ffffff\" stroke=\"#000000\" cx=\"63\" cy=\"-18\" rx=\"27\" ry=\"18\"/>\n<text text-anchor=\"middle\" x=\"63\" y=\"-14.3\" font-family=\"Times,serif\" font-size=\"14.00\" fill=\"#000000\">obs</text>\n</g>\n<!-- theta&#45;&gt;obs -->\n<g id=\"edge3\" class=\"edge\">\n<title>theta&#45;&gt;obs</title>\n<path fill=\"none\" stroke=\"#000000\" d=\"M63,-71.8314C63,-64.131 63,-54.9743 63,-46.4166\"/>\n<polygon fill=\"#000000\" stroke=\"#000000\" points=\"66.5001,-46.4132 63,-36.4133 59.5001,-46.4133 66.5001,-46.4132\"/>\n</g>\n</g>\n</svg>\n"
          },
          "metadata": {},
          "execution_count": 16
        }
      ]
    },
    {
      "cell_type": "code",
      "source": [
        "from jax import random\n",
        "from numpyro.infer import MCMC, NUTS\n",
        "\n",
        "# conditioning / observing the obs node with the values in y.\n",
        "conditioning_data = {'obs':y}\n",
        "conditioned_numpyro_traditional_model = numpyro.handlers.condition(numpyro_traditional_model, data=conditioning_data)\n",
        "\n",
        "# Runnning MCMC below with same output as original :)\n",
        "nuts_kernel = NUTS(conditioned_numpyro_traditional_model)\n",
        "mcmc = MCMC(nuts_kernel, num_warmup=500, num_samples=1000)\n",
        "rng_key = random.PRNGKey(0)\n",
        "mcmc.run(rng_key, extra_fields=('potential_energy',))\n",
        "mcmc.print_summary()"
      ],
      "metadata": {
        "colab": {
          "base_uri": "https://localhost:8080/"
        },
        "id": "C6NXElu1u-IV",
        "outputId": "2ff8776b-77f5-4fd3-ebc6-d2a72a7ca48b"
      },
      "execution_count": 17,
      "outputs": [
        {
          "output_type": "stream",
          "name": "stderr",
          "text": [
            "sample: 100%|██████████| 1500/1500 [00:05<00:00, 253.28it/s, 31 steps of size 4.85e-02. acc. prob=0.99]\n"
          ]
        },
        {
          "output_type": "stream",
          "name": "stdout",
          "text": [
            "\n",
            "                mean       std    median      5.0%     95.0%     n_eff     r_hat\n",
            "        mu      4.30      3.44      4.23     -1.68      8.96    158.83      1.01\n",
            "       tau      4.05      3.45      2.97      0.29      8.29     70.21      1.02\n",
            "  theta[0]      6.41      5.66      5.74     -2.99     14.52    213.16      1.01\n",
            "  theta[1]      5.16      4.92      4.98     -2.10     13.42    250.40      1.01\n",
            "  theta[2]      3.70      5.47      3.73     -5.71     11.76    324.69      1.00\n",
            "  theta[3]      4.83      5.32      4.52     -2.80     13.70    331.97      1.00\n",
            "  theta[4]      3.49      4.95      3.68     -4.69     11.44    211.57      1.00\n",
            "  theta[5]      3.96      5.10      4.24     -3.66     12.65    298.62      1.01\n",
            "  theta[6]      6.75      5.52      6.05     -1.46     15.60    155.36      1.01\n",
            "  theta[7]      5.07      5.31      4.80     -3.16     13.83    232.52      1.02\n",
            "\n",
            "Number of divergences: 1\n"
          ]
        }
      ]
    }
  ]
}